{
 "cells": [
  {
   "cell_type": "markdown",
   "source": [
    "# Compare Training Hyperparameters"
   ],
   "metadata": {
    "collapsed": false,
    "id": "kiJJi0ILBP-q"
   }
  },
  {
   "cell_type": "code",
   "execution_count": null,
   "outputs": [],
   "source": [
    "! git clone https://github.com/MaxHReinhardt/ArchitecturalStyleClassification"
   ],
   "metadata": {
    "id": "nt-cQ7XHBP-0",
    "outputId": "bcf6a567-9816-46b2-a1f0-c3858b6eff9d",
    "colab": {
     "base_uri": "https://localhost:8080/"
    },
    "pycharm": {
     "is_executing": true
    }
   }
  },
  {
   "cell_type": "code",
   "execution_count": 2,
   "outputs": [],
   "source": [
    "import sys\n",
    "import os\n",
    "\n",
    "py_file_location = \"/content/ArchitecturalStyleClassification/src\"\n",
    "sys.path.append(os.path.abspath(py_file_location))"
   ],
   "metadata": {
    "id": "Itb6XTqCBP-1"
   }
  },
  {
   "cell_type": "code",
   "execution_count": 3,
   "outputs": [],
   "source": [
    "import torch\n",
    "import numpy as np\n",
    "\n",
    "from preprocessing import TrainSetDynamicNormalization, EvaluationSetStaticNormalization\n",
    "from model import MobileNetV1\n",
    "from train_model import train_with_early_stopping\n",
    "from evaluate_model import evaluate\n",
    "\n",
    "\n",
    "def compare_training_hyperparameter_configurations(learning_rate_range, batch_size_range, num_configurations, train_csv,\n",
    "                                                   validation_csv):\n",
    "    \"\"\"\n",
    "    Performs random search for given ranges of training hyperparameters.\n",
    "    \"\"\"\n",
    "\n",
    "    weight_decay = 0\n",
    "    max_num_epochs = 100\n",
    "\n",
    "    resolution = 384\n",
    "    width_multiplier = 1\n",
    "    cbam_last_layer = False\n",
    "    cbam_all_layers = True\n",
    "\n",
    "    # Check if CUDA (GPU) is available\n",
    "    device = torch.device(\"cuda\" if torch.cuda.is_available() else \"cpu\")\n",
    "    print(f\"Device: {device}\")\n",
    "\n",
    "    for _ in range(num_configurations):\n",
    "        # Randomly select learning rate and batch size from the provided ranges\n",
    "        learning_rate = np.power(10,\n",
    "                                 np.random.uniform(np.log10(learning_rate_range[0]), np.log10(learning_rate_range[1])))\n",
    "        batch_size = int(np.power(2, np.random.uniform(np.log2(batch_size_range[0]), np.log2(batch_size_range[1]))))\n",
    "        print(f\"Learning rate: {learning_rate}, batch size: {batch_size}.\")\n",
    "\n",
    "        train_set_object = TrainSetDynamicNormalization(resolution=resolution,\n",
    "                                                        train_csv=train_csv)\n",
    "        train_set = train_set_object.get_data()\n",
    "        normalization_mean, normalization_std = train_set_object.get_normalization_parameters()\n",
    "        validation_set = EvaluationSetStaticNormalization(resolution=resolution,\n",
    "                                                          evaluation_csv=validation_csv,\n",
    "                                                          normalization_mean=normalization_mean,\n",
    "                                                          normalization_std=normalization_std).get_data()\n",
    "\n",
    "        model = MobileNetV1(ch_in=3, n_classes=25, width_multiplier=width_multiplier,\n",
    "                            cbam_all_layers=cbam_all_layers, cbam_last_layer=cbam_last_layer)\n",
    "        model.to(device)\n",
    "\n",
    "        trained_model, train_loss_development, val_loss_development = train_with_early_stopping(model,\n",
    "                                                                                                train_set,\n",
    "                                                                                                validation_set,\n",
    "                                                                                                batch_size,\n",
    "                                                                                                learning_rate,\n",
    "                                                                                                max_num_epochs,\n",
    "                                                                                                device,\n",
    "                                                                                                weight_decay)\n",
    "\n",
    "        model_name = f\"{width_multiplier}-MobileNetV1-{resolution}_cbam_all_layers_lr-{learning_rate}_bs-{batch_size}\"\n",
    "        model_path = os.path.join(\"stored_models/\", model_name + \".pth\")\n",
    "        torch.save(trained_model.state_dict(), model_path)\n",
    "\n",
    "        accuracy, _, avg_loss, avg_prediction_time = evaluate(trained_model,\n",
    "                                                              validation_set,\n",
    "                                                              batch_size,\n",
    "                                                              device)\n",
    "\n",
    "        print(f\"{model_name} evaluation -- Accuracy: {accuracy}, Average loss: {avg_loss}, \"\n",
    "              f\"Average prediction time (seconds): {avg_prediction_time}\")"
   ],
   "metadata": {
    "id": "9FUWSntRBP-1"
   }
  },
  {
   "cell_type": "code",
   "execution_count": 4,
   "outputs": [],
   "source": [
    "!mkdir stored_models"
   ],
   "metadata": {
    "id": "pnxZsarPBP-2"
   }
  },
  {
   "cell_type": "code",
   "execution_count": null,
   "outputs": [],
   "source": [
    "from google.colab import drive\n",
    "\n",
    "drive.mount('/content/gdrive')"
   ],
   "metadata": {
    "id": "XyK4unoQBP-2",
    "outputId": "27e0c98f-ec38-4159-bdef-4488e7764978",
    "colab": {
     "base_uri": "https://localhost:8080/"
    },
    "pycharm": {
     "is_executing": true
    }
   }
  },
  {
   "cell_type": "code",
   "execution_count": null,
   "outputs": [],
   "source": [
    "!unzip /content/gdrive/MyDrive/data.zip;"
   ],
   "metadata": {
    "id": "P03HjuDLBP-3",
    "outputId": "ac31c1eb-b329-40d9-d787-5754e707678c",
    "colab": {
     "base_uri": "https://localhost:8080/"
    },
    "pycharm": {
     "is_executing": true
    }
   }
  },
  {
   "cell_type": "code",
   "execution_count": 7,
   "outputs": [],
   "source": [
    "drive.flush_and_unmount()"
   ],
   "metadata": {
    "id": "VntkzaAyBP-3"
   }
  },
  {
   "cell_type": "markdown",
   "source": [
    "## Run Experiment"
   ],
   "metadata": {
    "collapsed": false,
    "id": "z8VXsFQaBP-3"
   }
  },
  {
   "cell_type": "code",
   "execution_count": 8,
   "outputs": [],
   "source": [
    "learning_rate_range = [0.002, 0.005]\n",
    "batch_size_range = [32, 128]\n",
    "num_configurations = 10\n",
    "train_csv = \"data/dataset/train_annotation.csv\"\n",
    "validation_csv = \"data/dataset/validation_annotation.csv\""
   ],
   "metadata": {
    "id": "9LWdBlCeBP-4"
   }
  },
  {
   "cell_type": "code",
   "execution_count": null,
   "outputs": [],
   "source": [
    "compare_training_hyperparameter_configurations(learning_rate_range, batch_size_range, num_configurations, train_csv, validation_csv)"
   ],
   "metadata": {
    "id": "Hn2nhQWJBP-4",
    "outputId": "aaa3528c-a7ab-4158-806d-e978625addba",
    "colab": {
     "base_uri": "https://localhost:8080/"
    },
    "pycharm": {
     "is_executing": true
    }
   }
  },
  {
   "cell_type": "code",
   "execution_count": null,
   "outputs": [],
   "source": [],
   "metadata": {
    "id": "oY6CL3xZBP-4"
   }
  }
 ],
 "metadata": {
  "kernelspec": {
   "display_name": "Python 3",
   "name": "python3"
  },
  "language_info": {
   "codemirror_mode": {
    "name": "ipython",
    "version": 2
   },
   "file_extension": ".py",
   "mimetype": "text/x-python",
   "name": "python",
   "nbconvert_exporter": "python",
   "pygments_lexer": "ipython2",
   "version": "2.7.6"
  },
  "colab": {
   "provenance": [],
   "machine_shape": "hm",
   "gpuType": "A100"
  },
  "accelerator": "GPU"
 },
 "nbformat": 4,
 "nbformat_minor": 0
}
