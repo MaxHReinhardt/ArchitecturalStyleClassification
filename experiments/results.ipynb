{
 "cells": [
  {
   "cell_type": "markdown",
   "source": [
    "# Experiment Results"
   ],
   "metadata": {
    "collapsed": false
   }
  },
  {
   "cell_type": "code",
   "execution_count": null,
   "metadata": {
    "collapsed": true,
    "pycharm": {
     "is_executing": true
    }
   },
   "outputs": [],
   "source": [
    "import torch\n",
    "import re\n",
    "from src.evaluate_model import evaluate\n",
    "from src.model import MobileNetV1\n",
    "from src.model_old import MobileNetV1_old\n",
    "from src.preprocessing import EvaluationSetStaticNormalization, TrainSetDynamicNormalization"
   ]
  },
  {
   "cell_type": "code",
   "execution_count": 3,
   "outputs": [],
   "source": [
    "import os\n",
    "\n",
    "os.chdir('...')  # Set path to the root directory"
   ],
   "metadata": {
    "collapsed": false
   }
  },
  {
   "cell_type": "code",
   "execution_count": 4,
   "outputs": [
    {
     "name": "stdout",
     "output_type": "stream",
     "text": [
      "Device: cpu\n"
     ]
    }
   ],
   "source": [
    "batch_size = 64\n",
    "train_csv = 'data/dataset/train_annotation.csv'\n",
    "validation_csv = 'data/dataset/validation_annotation.csv'\n",
    "\n",
    "# Check if CUDA (GPU) is available\n",
    "device = torch.device(\"cuda\" if torch.cuda.is_available() else \"cpu\")\n",
    "print(f\"Device: {device}\")"
   ],
   "metadata": {
    "collapsed": false
   }
  },
  {
   "cell_type": "markdown",
   "source": [
    "## Experiment 1"
   ],
   "metadata": {
    "collapsed": false
   }
  },
  {
   "cell_type": "code",
   "execution_count": 10,
   "outputs": [
    {
     "name": "stdout",
     "output_type": "stream",
     "text": [
      "Model: 0.25-MobileNetV1-192.pth\n",
      "Accuracy: 0.4500737825873094, Average loss: 1.812665969133377, Average prediction time (seconds): 0.09761951863765717\n",
      "----------------------------------------------------\n",
      "Model: 0.25-MobileNetV1-256.pth\n",
      "Accuracy: 0.49483521888834237, Average loss: 1.6920176604762673, Average prediction time (seconds): 0.19869139790534973\n",
      "----------------------------------------------------\n",
      "Model: 0.25-MobileNetV1-384.pth\n",
      "Accuracy: 0.49040826364977863, Average loss: 1.609023418277502, Average prediction time (seconds): 0.4624168127775192\n",
      "----------------------------------------------------\n",
      "Model: 0.5-MobileNetV1-192.pth\n",
      "Accuracy: 0.4584358091490408, Average loss: 1.7675158977508545, Average prediction time (seconds): 0.18885628879070282\n",
      "----------------------------------------------------\n",
      "Model: 0.5-MobileNetV1-256.pth\n",
      "Accuracy: 0.4840137727496311, Average loss: 1.676092411391437, Average prediction time (seconds): 0.4048686698079109\n",
      "----------------------------------------------------\n",
      "Model: 0.5-MobileNetV1-384.pth\n",
      "Accuracy: 0.5548450565666503, Average loss: 1.5068915588781238, Average prediction time (seconds): 1.6266557425260544\n",
      "----------------------------------------------------\n",
      "Model: 0.75-MobileNetV1-192.pth\n",
      "Accuracy: 0.5391047712739794, Average loss: 1.6028411258012056, Average prediction time (seconds): 0.37423429638147354\n",
      "----------------------------------------------------\n",
      "Model: 0.75-MobileNetV1-256.pth\n",
      "Accuracy: 0.4889326119035908, Average loss: 1.665342289954424, Average prediction time (seconds): 0.7882605791091919\n",
      "----------------------------------------------------\n",
      "Model: 0.75-MobileNetV1-384.pth\n",
      "Accuracy: 0.5469749139203148, Average loss: 1.5766546712256968, Average prediction time (seconds): 2.532792739570141\n",
      "----------------------------------------------------\n",
      "Model: 1-MobileNetV1-192.pth\n",
      "Accuracy: 0.4461387112641417, Average loss: 1.7822408955544233, Average prediction time (seconds): 0.6463172435760498\n",
      "----------------------------------------------------\n",
      "Model: 1-MobileNetV1-256.pth\n",
      "Accuracy: 0.5164781111657649, Average loss: 1.6274350634776056, Average prediction time (seconds): 1.2154533118009567\n",
      "----------------------------------------------------\n",
      "Model: 1-MobileNetV1-384.pth\n",
      "Accuracy: 0.5066404328578455, Average loss: 1.6058027232065797, Average prediction time (seconds): 3.8908580392599106\n",
      "----------------------------------------------------\n"
     ]
    }
   ],
   "source": [
    "models_folder = 'models_from_colab_execution/experiment_1'\n",
    "\n",
    "# Pattern to extract width and resolution from the file names\n",
    "pattern = re.compile(r'(\\d+(?:\\.\\d+)?)-MobileNetV1-(\\d+)\\.pth')\n",
    "\n",
    "model_files = sorted([file for file in os.listdir(models_folder) if file.endswith('.pth')])\n",
    "\n",
    "for model_file in model_files:\n",
    "    # Extract width and resolution from the file name\n",
    "    match = pattern.match(model_file)\n",
    "    if match:\n",
    "        width_parameter, resolution = match.groups()\n",
    "\n",
    "        # Load the model using the extracted width\n",
    "        model_path = os.path.join(models_folder, model_file)\n",
    "        model = MobileNetV1_old(ch_in=3, n_classes=25, width_multiplier=float(width_parameter), with_cbam=False)\n",
    "        model.load_state_dict(torch.load(model_path, map_location=torch.device('cpu')))\n",
    "\n",
    "        # Load validation data using the extracted resolution\n",
    "        normalization_mean, normalization_std = TrainSetDynamicNormalization(resolution=int(resolution),\n",
    "                                                                             train_csv=train_csv).get_normalization_parameters()\n",
    "        validation_set = EvaluationSetStaticNormalization(resolution=int(resolution),\n",
    "                                                          evaluation_csv=validation_csv,\n",
    "                                                          normalization_mean=normalization_mean,\n",
    "                                                          normalization_std=normalization_std).get_data()\n",
    "\n",
    "        accuracy, _, avg_loss, avg_prediction_time = evaluate(model, validation_set, batch_size, device)\n",
    "        print(f\"Model: {model_file}\")\n",
    "        print(f\"Accuracy: {accuracy}, Average loss: {avg_loss}, Average prediction time (seconds): {avg_prediction_time}\")\n",
    "        print(\"----------------------------------------------------\")"
   ],
   "metadata": {
    "collapsed": false
   }
  },
  {
   "cell_type": "markdown",
   "source": [
    "## Experiment 2"
   ],
   "metadata": {
    "collapsed": false
   }
  },
  {
   "cell_type": "code",
   "execution_count": 11,
   "outputs": [
    {
     "name": "stdout",
     "output_type": "stream",
     "text": [
      "Model: 0.5-MobileNetV1-384_with_cbam.pth\n",
      "Accuracy: 0.5253320216428923, Average loss: 1.5570970140397549, Average prediction time (seconds): 1.5186131969094276\n",
      "----------------------------------------------------\n",
      "Model: 0.75-MobileNetV1-384_with_cbam.pth\n",
      "Accuracy: 0.5386128873585834, Average loss: 1.5161780146881938, Average prediction time (seconds): 2.8117289021611214\n",
      "----------------------------------------------------\n",
      "Model: 1-MobileNetV1-384_with_cbam.pth\n",
      "Accuracy: 0.48007870142646336, Average loss: 1.6592954080551863, Average prediction time (seconds): 3.9076610058546066\n",
      "----------------------------------------------------\n"
     ]
    }
   ],
   "source": [
    "models_folder = 'models_from_colab_execution/experiment_2'\n",
    "\n",
    "# Pattern to extract width and resolution from the file names\n",
    "pattern = re.compile(r'(\\d+(?:\\.\\d+)?)-MobileNetV1-(\\d+)_.*\\.pth')\n",
    "\n",
    "model_files = sorted([file for file in os.listdir(models_folder) if file.endswith('.pth')])\n",
    "\n",
    "for model_file in model_files:\n",
    "    # Extract width and resolution from the file name\n",
    "    match = pattern.match(model_file)\n",
    "    if match:\n",
    "        width_parameter, resolution = match.groups()\n",
    "\n",
    "        # Load the model using the extracted width\n",
    "        model_path = os.path.join(models_folder, model_file)\n",
    "        model = MobileNetV1_old(ch_in=3, n_classes=25, width_multiplier=float(width_parameter), with_cbam=True)\n",
    "        model.load_state_dict(torch.load(model_path, map_location=torch.device('cpu')))\n",
    "\n",
    "        # Load validation data using the extracted resolution\n",
    "        normalization_mean, normalization_std = TrainSetDynamicNormalization(resolution=int(resolution),\n",
    "                                                                             train_csv=train_csv).get_normalization_parameters()\n",
    "        validation_set = EvaluationSetStaticNormalization(resolution=int(resolution),\n",
    "                                                          evaluation_csv=validation_csv,\n",
    "                                                          normalization_mean=normalization_mean,\n",
    "                                                          normalization_std=normalization_std).get_data()\n",
    "\n",
    "        accuracy, _, avg_loss, avg_prediction_time = evaluate(model, validation_set, batch_size, device)\n",
    "        print(f\"Model: {model_file}\")\n",
    "        print(f\"Accuracy: {accuracy}, Average loss: {avg_loss}, Average prediction time (seconds): {avg_prediction_time}\")\n",
    "        print(\"----------------------------------------------------\")"
   ],
   "metadata": {
    "collapsed": false
   }
  },
  {
   "cell_type": "markdown",
   "source": [
    "## Experiment 3"
   ],
   "metadata": {
    "collapsed": false
   }
  },
  {
   "cell_type": "code",
   "execution_count": 12,
   "outputs": [
    {
     "name": "stdout",
     "output_type": "stream",
     "text": [
      "Model: 0.5-MobileNetV1-384_with_cbam_weight_decay.pth\n",
      "Accuracy: 0.4913920314805706, Average loss: 1.6618762519210577, Average prediction time (seconds): 1.5048296302556992\n",
      "----------------------------------------------------\n",
      "Model: 0.75-MobileNetV1-384_with_cbam_weight_decay.pth\n",
      "Accuracy: 0.5336940482046237, Average loss: 1.5262373499572277, Average prediction time (seconds): 2.5760206803679466\n",
      "----------------------------------------------------\n",
      "Model: 1-MobileNetV1-384_with_cbam_weight_decay.pth\n",
      "Accuracy: 0.4510575504181013, Average loss: 1.7164471335709095, Average prediction time (seconds): 4.599663086235523\n",
      "----------------------------------------------------\n"
     ]
    }
   ],
   "source": [
    "models_folder = 'models_from_colab_execution/experiment_3'\n",
    "\n",
    "# Pattern to extract width and resolution from the file names\n",
    "pattern = re.compile(r'(\\d+(?:\\.\\d+)?)-MobileNetV1-(\\d+)_.*\\.pth')\n",
    "\n",
    "model_files = sorted([file for file in os.listdir(models_folder) if file.endswith('.pth')])\n",
    "\n",
    "for model_file in model_files:\n",
    "    # Extract width and resolution from the file name\n",
    "    match = pattern.match(model_file)\n",
    "    if match:\n",
    "        width_parameter, resolution = match.groups()\n",
    "\n",
    "        # Load the model using the extracted width\n",
    "        model_path = os.path.join(models_folder, model_file)\n",
    "        model = MobileNetV1_old(ch_in=3, n_classes=25, width_multiplier=float(width_parameter), with_cbam=True)\n",
    "        model.load_state_dict(torch.load(model_path, map_location=torch.device('cpu')))\n",
    "\n",
    "        # Load validation data using the extracted resolution\n",
    "        normalization_mean, normalization_std = TrainSetDynamicNormalization(resolution=int(resolution),\n",
    "                                                                             train_csv=train_csv).get_normalization_parameters()\n",
    "        validation_set = EvaluationSetStaticNormalization(resolution=int(resolution),\n",
    "                                                          evaluation_csv=validation_csv,\n",
    "                                                          normalization_mean=normalization_mean,\n",
    "                                                          normalization_std=normalization_std).get_data()\n",
    "\n",
    "        accuracy, _, avg_loss, avg_prediction_time = evaluate(model, validation_set, batch_size, device)\n",
    "        print(f\"Model: {model_file}\")\n",
    "        print(f\"Accuracy: {accuracy}, Average loss: {avg_loss}, Average prediction time (seconds): {avg_prediction_time}\")\n",
    "        print(\"----------------------------------------------------\")"
   ],
   "metadata": {
    "collapsed": false
   }
  },
  {
   "cell_type": "markdown",
   "source": [
    "## Experiment 4"
   ],
   "metadata": {
    "collapsed": false
   }
  },
  {
   "cell_type": "code",
   "execution_count": 13,
   "outputs": [
    {
     "name": "stdout",
     "output_type": "stream",
     "text": [
      "Model: 0.5-MobileNetV1-384__cbam_all_layers.pth\n",
      "Accuracy: 0.5336940482046237, Average loss: 1.5127156898379326, Average prediction time (seconds): 2.979927182197571\n",
      "----------------------------------------------------\n",
      "Model: 0.75-MobileNetV1-384__cbam_all_layers.pth\n",
      "Accuracy: 0.5769798327594687, Average loss: 1.4681312572211027, Average prediction time (seconds): 4.573832586407661\n",
      "----------------------------------------------------\n",
      "Model: 1-MobileNetV1-384__cbam_all_layers.pth\n",
      "Accuracy: 0.5858337432365962, Average loss: 1.5329466369003057, Average prediction time (seconds): 6.839625366032124\n",
      "----------------------------------------------------\n"
     ]
    }
   ],
   "source": [
    "models_folder = 'models_from_colab_execution/experiment_4'\n",
    "\n",
    "# Pattern to extract width and resolution from the file names\n",
    "pattern = re.compile(r'(\\d+(?:\\.\\d+)?)-MobileNetV1-(\\d+)_.*\\.pth')\n",
    "\n",
    "model_files = sorted([file for file in os.listdir(models_folder) if file.endswith('.pth')])\n",
    "\n",
    "for model_file in model_files:\n",
    "    # Extract width and resolution from the file name\n",
    "    match = pattern.match(model_file)\n",
    "    if match:\n",
    "        width_parameter, resolution = match.groups()\n",
    "\n",
    "        # Load the model using the extracted width\n",
    "        model_path = os.path.join(models_folder, model_file)\n",
    "        model = MobileNetV1(ch_in=3, n_classes=25, width_multiplier=float(width_parameter), cbam_all_layers=True,\n",
    "                            cbam_last_layer=False)\n",
    "        model.load_state_dict(torch.load(model_path, map_location=torch.device('cpu')))\n",
    "\n",
    "        # Load validation data using the extracted resolution\n",
    "        normalization_mean, normalization_std = TrainSetDynamicNormalization(resolution=int(resolution),\n",
    "                                                                             train_csv=train_csv).get_normalization_parameters()\n",
    "        validation_set = EvaluationSetStaticNormalization(resolution=int(resolution),\n",
    "                                                          evaluation_csv=validation_csv,\n",
    "                                                          normalization_mean=normalization_mean,\n",
    "                                                          normalization_std=normalization_std).get_data()\n",
    "\n",
    "        accuracy, _, avg_loss, avg_prediction_time = evaluate(model, validation_set, batch_size, device)\n",
    "        print(f\"Model: {model_file}\")\n",
    "        print(f\"Accuracy: {accuracy}, Average loss: {avg_loss}, Average prediction time (seconds): {avg_prediction_time}\")\n",
    "        print(\"----------------------------------------------------\")"
   ],
   "metadata": {
    "collapsed": false
   }
  },
  {
   "cell_type": "markdown",
   "source": [
    "## Experiment 5"
   ],
   "metadata": {
    "collapsed": false
   }
  },
  {
   "cell_type": "code",
   "execution_count": 14,
   "outputs": [
    {
     "name": "stdout",
     "output_type": "stream",
     "text": [
      "Model: 1-MobileNetV1-384_cbam_all_layers_lr-0.0002393818251680816_bs-68.pth\n",
      "Accuracy: 0.5017215937038859, Average loss: 1.6102929627522826, Average prediction time (seconds): 6.439781926572323\n",
      "----------------------------------------------------\n",
      "Model: 1-MobileNetV1-384_cbam_all_layers_lr-0.0003412213373775417_bs-76.pth\n",
      "Accuracy: 0.5302508607968519, Average loss: 1.6113566346466541, Average prediction time (seconds): 6.370544768869877\n",
      "----------------------------------------------------\n",
      "Model: 1-MobileNetV1-384_cbam_all_layers_lr-0.00048715609075237814_bs-51.pth\n",
      "Accuracy: 0.515002459419577, Average loss: 1.6483990913257003, Average prediction time (seconds): 6.326316952705383\n",
      "----------------------------------------------------\n",
      "Model: 1-MobileNetV1-384_cbam_all_layers_lr-0.0017743140561839272_bs-40.pth\n",
      "Accuracy: 0.5066404328578455, Average loss: 1.6380182038992643, Average prediction time (seconds): 6.780396617949009\n",
      "----------------------------------------------------\n",
      "Model: 1-MobileNetV1-384_cbam_all_layers_lr-0.002170032640290258_bs-54.pth\n",
      "Accuracy: 0.5494343334972946, Average loss: 1.4534445563331246, Average prediction time (seconds): 7.010328449308872\n",
      "----------------------------------------------------\n",
      "Model: 1-MobileNetV1-384_cbam_all_layers_lr-0.003964159819606411_bs-46.pth\n",
      "Accuracy: 0.5597638957206099, Average loss: 1.450749663170427, Average prediction time (seconds): 6.121680244803429\n",
      "----------------------------------------------------\n",
      "Model: 1-MobileNetV1-384_cbam_all_layers_lr-0.005895941462943202_bs-56.pth\n",
      "Accuracy: 0.5425479586817511, Average loss: 1.480063620954752, Average prediction time (seconds): 6.127496227622032\n",
      "----------------------------------------------------\n",
      "Model: 1-MobileNetV1-384_cbam_all_layers_lr-0.008001052876715332_bs-45.pth\n",
      "Accuracy: 0.4840137727496311, Average loss: 1.6563905533403158, Average prediction time (seconds): 6.071946993470192\n",
      "----------------------------------------------------\n",
      "Model: 1-MobileNetV1-384_cbam_all_layers_lr-0.00809443547418261_bs-54.pth\n",
      "Accuracy: 0.44220363994097395, Average loss: 1.724755839444697, Average prediction time (seconds): 6.1506259217858315\n",
      "----------------------------------------------------\n",
      "Model: 1-MobileNetV1-384_cbam_all_layers_lr-0.008639963244724243_bs-95.pth\n",
      "Accuracy: 0.48745696015740286, Average loss: 1.6025342363864183, Average prediction time (seconds): 6.175059884786606\n",
      "----------------------------------------------------\n"
     ]
    }
   ],
   "source": [
    "models_folder = 'models_from_colab_execution/experiment_5'\n",
    "\n",
    "# Pattern to extract width and resolution from the file names\n",
    "pattern = re.compile(r'(\\d+(?:\\.\\d+)?)-MobileNetV1-(\\d+)_.*\\.pth')\n",
    "\n",
    "model_files = sorted([file for file in os.listdir(models_folder) if file.endswith('.pth')])\n",
    "\n",
    "for model_file in model_files:\n",
    "    # Extract width and resolution from the file name\n",
    "    match = pattern.match(model_file)\n",
    "    if match:\n",
    "        width_parameter, resolution = match.groups()\n",
    "\n",
    "        # Load the model using the extracted width\n",
    "        model_path = os.path.join(models_folder, model_file)\n",
    "        model = MobileNetV1(ch_in=3, n_classes=25, width_multiplier=float(width_parameter), cbam_all_layers=True,\n",
    "                            cbam_last_layer=False)\n",
    "        model.load_state_dict(torch.load(model_path, map_location=torch.device('cpu')))\n",
    "\n",
    "        # Load validation data using the extracted resolution\n",
    "        normalization_mean, normalization_std = TrainSetDynamicNormalization(resolution=int(resolution),\n",
    "                                                                             train_csv=train_csv).get_normalization_parameters()\n",
    "        validation_set = EvaluationSetStaticNormalization(resolution=int(resolution),\n",
    "                                                          evaluation_csv=validation_csv,\n",
    "                                                          normalization_mean=normalization_mean,\n",
    "                                                          normalization_std=normalization_std).get_data()\n",
    "\n",
    "        accuracy, _, avg_loss, avg_prediction_time = evaluate(model, validation_set, batch_size, device)\n",
    "        print(f\"Model: {model_file}\")\n",
    "        print(f\"Accuracy: {accuracy}, Average loss: {avg_loss}, Average prediction time (seconds): {avg_prediction_time}\")\n",
    "        print(\"----------------------------------------------------\")"
   ],
   "metadata": {
    "collapsed": false
   }
  },
  {
   "cell_type": "markdown",
   "source": [
    "## Experiment 6"
   ],
   "metadata": {
    "collapsed": false
   }
  },
  {
   "cell_type": "code",
   "execution_count": 16,
   "outputs": [
    {
     "name": "stdout",
     "output_type": "stream",
     "text": [
      "Model: 1-MobileNetV1-384_cbam_all_layers_lr-0.0025446248015873053_bs-99.pth\n",
      "Accuracy: 0.5154943433349729, Average loss: 1.6186642069369555, Average prediction time (seconds): 6.39892303943634\n",
      "----------------------------------------------------\n",
      "Model: 1-MobileNetV1-384_cbam_all_layers_lr-0.0028173161183484103_bs-101.pth\n",
      "Accuracy: 0.5376291195277915, Average loss: 1.5890199718996882, Average prediction time (seconds): 6.173142232000828\n",
      "----------------------------------------------------\n",
      "Model: 1-MobileNetV1-384_cbam_all_layers_lr-0.0028844472698596117_bs-89.pth\n",
      "Accuracy: 0.4987702902115101, Average loss: 1.60426692571491, Average prediction time (seconds): 6.63159841299057\n",
      "----------------------------------------------------\n",
      "Model: 1-MobileNetV1-384_cbam_all_layers_lr-0.00296764276029946_bs-94.pth\n",
      "Accuracy: 0.41269060501721594, Average loss: 1.9261525049805641, Average prediction time (seconds): 6.570382177829742\n",
      "----------------------------------------------------\n",
      "Model: 1-MobileNetV1-384_cbam_all_layers_lr-0.003736489953358085_bs-39.pth\n",
      "Accuracy: 0.5479586817511067, Average loss: 1.4879373703151941, Average prediction time (seconds): 6.390533432364464\n",
      "----------------------------------------------------\n",
      "Model: 1-MobileNetV1-384_cbam_all_layers_lr-0.004237131512910355_bs-59.pth\n",
      "Accuracy: 0.5607476635514018, Average loss: 1.5491369180381298, Average prediction time (seconds): 6.839901812374592\n",
      "----------------------------------------------------\n",
      "Model: 1-MobileNetV1-384_cbam_all_layers_lr-0.004634720875210511_bs-53.pth\n",
      "Accuracy: 0.5745204131824889, Average loss: 1.4151295321062207, Average prediction time (seconds): 6.045865789055824\n",
      "----------------------------------------------------\n",
      "Model: 1-MobileNetV1-384_cbam_all_layers_lr-0.004883196444656417_bs-59.pth\n",
      "Accuracy: 0.5651746187899656, Average loss: 1.45243826135993, Average prediction time (seconds): 6.021841526031494\n",
      "----------------------------------------------------\n"
     ]
    }
   ],
   "source": [
    "models_folder = 'models_from_colab_execution/experiment_6'\n",
    "\n",
    "# Pattern to extract width and resolution from the file names\n",
    "pattern = re.compile(r'(\\d+(?:\\.\\d+)?)-MobileNetV1-(\\d+)_.*\\.pth')\n",
    "\n",
    "model_files = sorted([file for file in os.listdir(models_folder) if file.endswith('.pth')])\n",
    "\n",
    "for model_file in model_files:\n",
    "    # Extract width and resolution from the file name\n",
    "    match = pattern.match(model_file)\n",
    "    if match:\n",
    "        width_parameter, resolution = match.groups()\n",
    "\n",
    "        # Load the model using the extracted width\n",
    "        model_path = os.path.join(models_folder, model_file)\n",
    "        model = MobileNetV1(ch_in=3, n_classes=25, width_multiplier=float(width_parameter), cbam_all_layers=True,\n",
    "                            cbam_last_layer=False)\n",
    "        model.load_state_dict(torch.load(model_path, map_location=torch.device('cpu')))\n",
    "\n",
    "        # Load validation data using the extracted resolution\n",
    "        normalization_mean, normalization_std = TrainSetDynamicNormalization(resolution=int(resolution),\n",
    "                                                                             train_csv=train_csv).get_normalization_parameters()\n",
    "        validation_set = EvaluationSetStaticNormalization(resolution=int(resolution),\n",
    "                                                          evaluation_csv=validation_csv,\n",
    "                                                          normalization_mean=normalization_mean,\n",
    "                                                          normalization_std=normalization_std).get_data()\n",
    "\n",
    "        accuracy, _, avg_loss, avg_prediction_time = evaluate(model, validation_set, batch_size, device)\n",
    "        print(f\"Model: {model_file}\")\n",
    "        print(f\"Accuracy: {accuracy}, Average loss: {avg_loss}, Average prediction time (seconds): {avg_prediction_time}\")\n",
    "        print(\"----------------------------------------------------\")"
   ],
   "metadata": {
    "collapsed": false
   }
  },
  {
   "cell_type": "markdown",
   "source": [
    "## Evaluation of Final Model on Test Set"
   ],
   "metadata": {
    "collapsed": false
   }
  },
  {
   "cell_type": "code",
   "execution_count": 5,
   "outputs": [
    {
     "name": "stdout",
     "output_type": "stream",
     "text": [
      "Model: 1-MobileNetV1-384__cbam_all_layers\n",
      "Accuracy: 0.5799109351806037, Average loss: 1.551896552555263, Average prediction time (seconds): 5.754820987582207\n",
      "----------------------------------------------------\n"
     ]
    }
   ],
   "source": [
    "model_file = \"1-MobileNetV1-384__cbam_all_layers\"\n",
    "model_path = f\"models_from_colab_execution/experiment_4/{model_file}.pth\"\n",
    "test_csv = 'data/dataset/test_annotation.csv'\n",
    "\n",
    "model = MobileNetV1(ch_in=3, n_classes=25, width_multiplier=1, cbam_all_layers=True, cbam_last_layer=False)\n",
    "model.load_state_dict(torch.load(model_path, map_location=torch.device('cpu')))\n",
    "\n",
    "# Load validation data using the extracted resolution\n",
    "normalization_mean, normalization_std = TrainSetDynamicNormalization(resolution=384,\n",
    "                                                                     train_csv=train_csv).get_normalization_parameters()\n",
    "test_set = EvaluationSetStaticNormalization(resolution=384,\n",
    "                                            evaluation_csv=test_csv,\n",
    "                                            normalization_mean=normalization_mean,\n",
    "                                            normalization_std=normalization_std).get_data()\n",
    "\n",
    "accuracy, _, avg_loss, avg_prediction_time = evaluate(model, test_set, batch_size, device)\n",
    "print(f\"Model: {model_file}\")\n",
    "print(f\"Accuracy: {accuracy}, Average loss: {avg_loss}, Average prediction time (seconds): {avg_prediction_time}\")\n",
    "print(\"----------------------------------------------------\")"
   ],
   "metadata": {
    "collapsed": false
   }
  },
  {
   "cell_type": "code",
   "execution_count": null,
   "outputs": [],
   "source": [],
   "metadata": {
    "collapsed": false
   }
  }
 ],
 "metadata": {
  "kernelspec": {
   "display_name": "Python 3",
   "language": "python",
   "name": "python3"
  },
  "language_info": {
   "codemirror_mode": {
    "name": "ipython",
    "version": 2
   },
   "file_extension": ".py",
   "mimetype": "text/x-python",
   "name": "python",
   "nbconvert_exporter": "python",
   "pygments_lexer": "ipython2",
   "version": "2.7.6"
  }
 },
 "nbformat": 4,
 "nbformat_minor": 0
}
