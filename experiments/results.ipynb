{
 "cells": [
  {
   "cell_type": "code",
   "execution_count": 2,
   "metadata": {
    "collapsed": true
   },
   "outputs": [
    {
     "name": "stderr",
     "output_type": "stream",
     "text": [
      "/Users/maximilianreinhardt/PycharmProjects/ArchitecturalStyleClassification/venv/lib/python3.9/site-packages/urllib3/__init__.py:34: NotOpenSSLWarning: urllib3 v2 only supports OpenSSL 1.1.1+, currently the 'ssl' module is compiled with 'LibreSSL 2.8.3'. See: https://github.com/urllib3/urllib3/issues/3020\n",
      "  warnings.warn(\n"
     ]
    }
   ],
   "source": [
    "import torch\n",
    "from src.evaluate_model import evaluate\n",
    "from src.model import MobileNetV1\n",
    "from src.preprocessing import EvaluationSetDynamicNormalization"
   ]
  },
  {
   "cell_type": "code",
   "execution_count": 3,
   "outputs": [],
   "source": [
    "#TODO: Remove before Push\n",
    "import os\n",
    "os.chdir('/Users/maximilianreinhardt/PycharmProjects/ArchitecturalStyleClassification')"
   ],
   "metadata": {
    "collapsed": false
   }
  },
  {
   "cell_type": "code",
   "execution_count": 4,
   "outputs": [
    {
     "name": "stdout",
     "output_type": "stream",
     "text": [
      "Device: cpu\n"
     ]
    }
   ],
   "source": [
    "batch_size = 64\n",
    "validation_csv = 'data/dataset/validation_annotation.csv'\n",
    "\n",
    "# Check if CUDA (GPU) is available\n",
    "device = torch.device(\"cuda\" if torch.cuda.is_available() else \"cpu\")\n",
    "print(f\"Device: {device}\")"
   ],
   "metadata": {
    "collapsed": false
   }
  },
  {
   "cell_type": "code",
   "execution_count": 28,
   "outputs": [
    {
     "name": "stdout",
     "output_type": "stream",
     "text": [
      "Accuracy: 0.5027053615346778, Average loss: 1.6357993595302105, Average prediction time (seconds): 3.8864910528063774\n"
     ]
    }
   ],
   "source": [
    "# 1-MobileNetV1-384\n",
    "validation_set = EvaluationSetDynamicNormalization(resolution=384,\n",
    "                                                   validation_csv=validation_csv).get_data()\n",
    "\n",
    "model = MobileNetV1(ch_in=3, n_classes=25, width_multiplier=1, with_cbam=False)\n",
    "model.load_state_dict(torch.load('models_from_colab_execution/1-MobileNetV1-384.pth',\n",
    "                                 map_location=torch.device('cpu')))\n",
    "\n",
    "accuracy, _, avg_loss, avg_prediction_time = evaluate(model, validation_set, batch_size, device)\n",
    "print(f\"Accuracy: {accuracy}, Average loss: {avg_loss}, Average prediction time (seconds): {avg_prediction_time}\")"
   ],
   "metadata": {
    "collapsed": false
   }
  },
  {
   "cell_type": "code",
   "execution_count": 29,
   "outputs": [
    {
     "name": "stdout",
     "output_type": "stream",
     "text": [
      "Accuracy: 0.5031972454500738, Average loss: 1.6701367497444153, Average prediction time (seconds): 1.162641704082489\n"
     ]
    }
   ],
   "source": [
    "# 1-MobileNetV1-256\n",
    "validation_set = EvaluationSetDynamicNormalization(resolution=256,\n",
    "                                                   validation_csv=validation_csv).get_data()\n",
    "\n",
    "model = MobileNetV1(ch_in=3, n_classes=25, width_multiplier=1, with_cbam=False)\n",
    "model.load_state_dict(torch.load('models_from_colab_execution/1-MobileNetV1-256.pth',\n",
    "                                 map_location=torch.device('cpu')))\n",
    "\n",
    "accuracy, _, avg_loss, avg_prediction_time = evaluate(model, validation_set, batch_size, device)\n",
    "print(f\"Accuracy: {accuracy}, Average loss: {avg_loss}, Average prediction time (seconds): {avg_prediction_time}\")"
   ],
   "metadata": {
    "collapsed": false
   }
  },
  {
   "cell_type": "code",
   "execution_count": 39,
   "outputs": [
    {
     "name": "stdout",
     "output_type": "stream",
     "text": [
      "Accuracy: 0.4392523364485981, Average loss: 1.7974634058773518, Average prediction time (seconds): 0.7239286378026009\n"
     ]
    }
   ],
   "source": [
    "# 1-MobileNetV1-192\n",
    "validation_set = EvaluationSetDynamicNormalization(resolution=192,\n",
    "                                                   validation_csv=validation_csv).get_data()\n",
    "\n",
    "model = MobileNetV1(ch_in=3, n_classes=25, width_multiplier=1, with_cbam=False)\n",
    "model.load_state_dict(torch.load('models_from_colab_execution/1-MobileNetV1-192.pth',\n",
    "                                 map_location=torch.device('cpu')))\n",
    "\n",
    "accuracy, _, avg_loss, avg_prediction_time = evaluate(model, validation_set, batch_size, device)\n",
    "print(f\"Accuracy: {accuracy}, Average loss: {avg_loss}, Average prediction time (seconds): {avg_prediction_time}\")"
   ],
   "metadata": {
    "collapsed": false
   }
  },
  {
   "cell_type": "code",
   "execution_count": 5,
   "outputs": [
    {
     "name": "stdout",
     "output_type": "stream",
     "text": [
      "Accuracy: 0.5484505656665027, Average loss: 1.5814754851162434, Average prediction time (seconds): 2.660912737250328\n"
     ]
    }
   ],
   "source": [
    "# 0.75-MobileNetV1-384\n",
    "validation_set = EvaluationSetDynamicNormalization(resolution=384,\n",
    "                                                   validation_csv=validation_csv).get_data()\n",
    "\n",
    "model = MobileNetV1(ch_in=3, n_classes=25, width_multiplier=0.75, with_cbam=False)\n",
    "model.load_state_dict(torch.load('models_from_colab_execution/0.75-MobileNetV1-384.pth',\n",
    "                                 map_location=torch.device('cpu')))\n",
    "\n",
    "accuracy, _, avg_loss, avg_prediction_time = evaluate(model, validation_set, batch_size, device)\n",
    "print(f\"Accuracy: {accuracy}, Average loss: {avg_loss}, Average prediction time (seconds): {avg_prediction_time}\")"
   ],
   "metadata": {
    "collapsed": false
   }
  },
  {
   "cell_type": "code",
   "execution_count": 6,
   "outputs": [
    {
     "name": "stdout",
     "output_type": "stream",
     "text": [
      "Accuracy: 0.4790949335956714, Average loss: 1.6942049693316221, Average prediction time (seconds): 0.7080596014857292\n"
     ]
    }
   ],
   "source": [
    "# 0.75-MobileNetV1-384\n",
    "validation_set = EvaluationSetDynamicNormalization(resolution=256,\n",
    "                                                   validation_csv=validation_csv).get_data()\n",
    "\n",
    "model = MobileNetV1(ch_in=3, n_classes=25, width_multiplier=0.75, with_cbam=False)\n",
    "model.load_state_dict(torch.load('models_from_colab_execution/0.75-MobileNetV1-256.pth',\n",
    "                                 map_location=torch.device('cpu')))\n",
    "\n",
    "accuracy, _, avg_loss, avg_prediction_time = evaluate(model, validation_set, batch_size, device)\n",
    "print(f\"Accuracy: {accuracy}, Average loss: {avg_loss}, Average prediction time (seconds): {avg_prediction_time}\")"
   ],
   "metadata": {
    "collapsed": false
   }
  },
  {
   "cell_type": "code",
   "execution_count": 7,
   "outputs": [
    {
     "name": "stdout",
     "output_type": "stream",
     "text": [
      "Accuracy: 0.5238563698967044, Average loss: 1.633789362385869, Average prediction time (seconds): 0.3336300775408745\n"
     ]
    }
   ],
   "source": [
    "# 0.75-MobileNetV1-384\n",
    "validation_set = EvaluationSetDynamicNormalization(resolution=192,\n",
    "                                                   validation_csv=validation_csv).get_data()\n",
    "\n",
    "model = MobileNetV1(ch_in=3, n_classes=25, width_multiplier=0.75, with_cbam=False)\n",
    "model.load_state_dict(torch.load('models_from_colab_execution/0.75-MobileNetV1-192.pth',\n",
    "                                 map_location=torch.device('cpu')))\n",
    "\n",
    "accuracy, _, avg_loss, avg_prediction_time = evaluate(model, validation_set, batch_size, device)\n",
    "print(f\"Accuracy: {accuracy}, Average loss: {avg_loss}, Average prediction time (seconds): {avg_prediction_time}\")"
   ],
   "metadata": {
    "collapsed": false
   }
  },
  {
   "cell_type": "code",
   "execution_count": null,
   "outputs": [],
   "source": [],
   "metadata": {
    "collapsed": false
   }
  }
 ],
 "metadata": {
  "kernelspec": {
   "display_name": "Python 3",
   "language": "python",
   "name": "python3"
  },
  "language_info": {
   "codemirror_mode": {
    "name": "ipython",
    "version": 2
   },
   "file_extension": ".py",
   "mimetype": "text/x-python",
   "name": "python",
   "nbconvert_exporter": "python",
   "pygments_lexer": "ipython2",
   "version": "2.7.6"
  }
 },
 "nbformat": 4,
 "nbformat_minor": 0
}
