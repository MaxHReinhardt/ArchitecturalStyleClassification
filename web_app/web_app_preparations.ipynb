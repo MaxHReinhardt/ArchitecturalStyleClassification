{
 "cells": [
  {
   "cell_type": "code",
   "execution_count": null,
   "metadata": {
    "collapsed": true,
    "pycharm": {
     "is_executing": true
    }
   },
   "outputs": [],
   "source": [
    "import torch\n",
    "from src.model import MobileNetV1\n",
    "from src.preprocessing import TrainSetDynamicNormalization"
   ]
  },
  {
   "cell_type": "code",
   "execution_count": 2,
   "outputs": [],
   "source": [
    "import os\n",
    "\n",
    "os.chdir('...')  # Set path to the root directory"
   ],
   "metadata": {
    "collapsed": false
   }
  },
  {
   "cell_type": "code",
   "execution_count": null,
   "outputs": [],
   "source": [
    "# Print normalization parameters\n",
    "train_csv = 'data/dataset/train_annotation.csv'\n",
    "normalization_mean, normalization_std = TrainSetDynamicNormalization(resolution=384, train_csv=train_csv).get_normalization_parameters()\n",
    "\n",
    "print(normalization_mean)\n",
    "print(normalization_std)"
   ],
   "metadata": {
    "collapsed": false,
    "pycharm": {
     "is_executing": true
    }
   }
  },
  {
   "cell_type": "code",
   "execution_count": null,
   "outputs": [],
   "source": [
    "# Store best model for use in web app\n",
    "model_file = \"1-MobileNetV1-384__cbam_all_layers\"\n",
    "model_path = f\"models_from_colab_execution/experiment_4/{model_file}.pth\"\n",
    "model = MobileNetV1(ch_in=3, n_classes=25, width_multiplier=1, cbam_all_layers=True, cbam_last_layer=False)\n",
    "model.load_state_dict(torch.load(model_path, map_location=torch.device('cpu')))\n",
    "\n",
    "model_scripted = torch.jit.script(model) # Export to TorchScript\n",
    "model_scripted.save('stored_models/best_found_architectural_style_classification_model.pt')"
   ],
   "metadata": {
    "collapsed": false
   }
  }
 ],
 "metadata": {
  "kernelspec": {
   "display_name": "Python 3",
   "language": "python",
   "name": "python3"
  },
  "language_info": {
   "codemirror_mode": {
    "name": "ipython",
    "version": 2
   },
   "file_extension": ".py",
   "mimetype": "text/x-python",
   "name": "python",
   "nbconvert_exporter": "python",
   "pygments_lexer": "ipython2",
   "version": "2.7.6"
  }
 },
 "nbformat": 4,
 "nbformat_minor": 0
}
