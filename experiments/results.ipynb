{
 "cells": [
  {
   "cell_type": "markdown",
   "source": [
    "# Experiment Results"
   ],
   "metadata": {
    "collapsed": false
   }
  },
  {
   "cell_type": "code",
   "execution_count": null,
   "metadata": {
    "collapsed": true,
    "pycharm": {
     "is_executing": true
    }
   },
   "outputs": [],
   "source": [
    "import torch\n",
    "import re\n",
    "from src.evaluate_model import evaluate\n",
    "from src.model import MobileNetV1\n",
    "from src.model_old import MobileNetV1_old\n",
    "from src.preprocessing import EvaluationSetDynamicNormalization"
   ]
  },
  {
   "cell_type": "code",
   "execution_count": 2,
   "outputs": [],
   "source": [
    "import os\n",
    "os.chdir('...') # Set path to the directory"
   ],
   "metadata": {
    "collapsed": false
   }
  },
  {
   "cell_type": "code",
   "execution_count": 3,
   "outputs": [
    {
     "name": "stdout",
     "output_type": "stream",
     "text": [
      "Device: cpu\n"
     ]
    }
   ],
   "source": [
    "batch_size = 64\n",
    "validation_csv = 'data/dataset/validation_annotation.csv'\n",
    "\n",
    "# Check if CUDA (GPU) is available\n",
    "device = torch.device(\"cuda\" if torch.cuda.is_available() else \"cpu\")\n",
    "print(f\"Device: {device}\")"
   ],
   "metadata": {
    "collapsed": false
   }
  },
  {
   "cell_type": "markdown",
   "source": [
    "## Experiment 1"
   ],
   "metadata": {
    "collapsed": false
   }
  },
  {
   "cell_type": "code",
   "execution_count": 31,
   "outputs": [
    {
     "name": "stdout",
     "output_type": "stream",
     "text": [
      "Model: 0.25-MobileNetV1-192.pth\n",
      "Accuracy: 0.4441711756025578, Average loss: 1.8308059107512236, Average prediction time (seconds): 0.1156049370765686\n",
      "----------------------------------------------------\n",
      "Model: 0.25-MobileNetV1-256.pth\n",
      "Accuracy: 0.4672897196261682, Average loss: 1.7214414048939943, Average prediction time (seconds): 0.20356036722660065\n",
      "----------------------------------------------------\n",
      "Model: 0.25-MobileNetV1-384.pth\n",
      "Accuracy: 0.49581898671913427, Average loss: 1.6199057195335627, Average prediction time (seconds): 0.5334627628326416\n",
      "----------------------------------------------------\n",
      "Model: 0.5-MobileNetV1-192.pth\n",
      "Accuracy: 0.4461387112641417, Average loss: 1.8112845420837402, Average prediction time (seconds): 0.26174434274435043\n",
      "----------------------------------------------------\n",
      "Model: 0.5-MobileNetV1-256.pth\n",
      "Accuracy: 0.48450565666502704, Average loss: 1.6786945778876543, Average prediction time (seconds): 0.6645750105381012\n",
      "----------------------------------------------------\n",
      "Model: 0.5-MobileNetV1-384.pth\n",
      "Accuracy: 0.5518937530742745, Average loss: 1.5491750100627542, Average prediction time (seconds): 1.9167657494544983\n",
      "----------------------------------------------------\n",
      "Model: 0.75-MobileNetV1-192.pth\n",
      "Accuracy: 0.5238563698967044, Average loss: 1.633789362385869, Average prediction time (seconds): 0.3921980932354927\n",
      "----------------------------------------------------\n",
      "Model: 0.75-MobileNetV1-256.pth\n",
      "Accuracy: 0.4790949335956714, Average loss: 1.6942049693316221, Average prediction time (seconds): 0.9221205115318298\n",
      "----------------------------------------------------\n",
      "Model: 0.75-MobileNetV1-384.pth\n",
      "Accuracy: 0.5484505656665027, Average loss: 1.5814754851162434, Average prediction time (seconds): 3.5483467429876328\n",
      "----------------------------------------------------\n",
      "Model: 1-MobileNetV1-192.pth\n",
      "Accuracy: 0.4392523364485981, Average loss: 1.7938466388732195, Average prediction time (seconds): 0.8233942463994026\n",
      "----------------------------------------------------\n",
      "Model: 1-MobileNetV1-256.pth\n",
      "Accuracy: 0.5031972454500738, Average loss: 1.6750487452372909, Average prediction time (seconds): 1.7277231886982918\n",
      "----------------------------------------------------\n",
      "Model: 1-MobileNetV1-384.pth\n",
      "Accuracy: 0.5027053615346778, Average loss: 1.631411837413907, Average prediction time (seconds): 5.359982818365097\n",
      "----------------------------------------------------\n"
     ]
    }
   ],
   "source": [
    "models_folder = 'models_from_colab_execution/experiment_1'\n",
    "\n",
    "# Pattern to extract width and resolution from the file names\n",
    "pattern = re.compile(r'(\\d+(?:\\.\\d+)?)-MobileNetV1-(\\d+)\\.pth')\n",
    "\n",
    "model_files = sorted([file for file in os.listdir(models_folder) if file.endswith('.pth')])\n",
    "\n",
    "for model_file in model_files:\n",
    "    # Extract width and resolution from the file name\n",
    "    match = pattern.match(model_file)\n",
    "    if match:\n",
    "        width_parameter, resolution = match.groups()\n",
    "\n",
    "        # Load the model using the extracted width\n",
    "        model_path = os.path.join(models_folder, model_file)\n",
    "        model = MobileNetV1_old(ch_in=3, n_classes=25, width_multiplier=float(width_parameter), with_cbam = False)\n",
    "        model.load_state_dict(torch.load(model_path, map_location=torch.device('cpu')))\n",
    "\n",
    "        # Load validation data using the extracted resolution\n",
    "        validation_set = EvaluationSetDynamicNormalization(resolution=int(resolution), evaluation_csv=validation_csv).get_data()\n",
    "\n",
    "        accuracy, _, avg_loss, avg_prediction_time = evaluate(model, validation_set, batch_size, device)\n",
    "        print(f\"Model: {model_file}\")\n",
    "        print(f\"Accuracy: {accuracy}, Average loss: {avg_loss}, Average prediction time (seconds): {avg_prediction_time}\")\n",
    "        print(\"----------------------------------------------------\")"
   ],
   "metadata": {
    "collapsed": false
   }
  },
  {
   "cell_type": "markdown",
   "source": [
    "## Experiment 2"
   ],
   "metadata": {
    "collapsed": false
   }
  },
  {
   "cell_type": "code",
   "execution_count": 32,
   "outputs": [
    {
     "name": "stdout",
     "output_type": "stream",
     "text": [
      "Model: 0.5-MobileNetV1-384_with_cbam.pth\n",
      "Accuracy: 0.515002459419577, Average loss: 1.589292285963893, Average prediction time (seconds): 1.5893895775079727\n",
      "----------------------------------------------------\n",
      "Model: 0.75-MobileNetV1-384_with_cbam.pth\n",
      "Accuracy: 0.5253320216428923, Average loss: 1.551330666989088, Average prediction time (seconds): 3.211800791323185\n",
      "----------------------------------------------------\n",
      "Model: 1-MobileNetV1-384_with_cbam.pth\n",
      "Accuracy: 0.46679783571077227, Average loss: 1.709427347406745, Average prediction time (seconds): 4.937152326107025\n",
      "----------------------------------------------------\n"
     ]
    }
   ],
   "source": [
    "models_folder = 'models_from_colab_execution/experiment_2'\n",
    "\n",
    "# Pattern to extract width and resolution from the file names\n",
    "pattern = re.compile(r'(\\d+(?:\\.\\d+)?)-MobileNetV1-(\\d+)_.*\\.pth')\n",
    "\n",
    "model_files = sorted([file for file in os.listdir(models_folder) if file.endswith('.pth')])\n",
    "\n",
    "for model_file in model_files:\n",
    "    # Extract width and resolution from the file name\n",
    "    match = pattern.match(model_file)\n",
    "    if match:\n",
    "        width_parameter, resolution = match.groups()\n",
    "\n",
    "        # Load the model using the extracted width\n",
    "        model_path = os.path.join(models_folder, model_file)\n",
    "        model = MobileNetV1_old(ch_in=3, n_classes=25, width_multiplier=float(width_parameter), with_cbam = True)\n",
    "        model.load_state_dict(torch.load(model_path, map_location=torch.device('cpu')))\n",
    "\n",
    "        # Load validation data using the extracted resolution\n",
    "        validation_set = EvaluationSetDynamicNormalization(resolution=int(resolution), evaluation_csv=validation_csv).get_data()\n",
    "\n",
    "        accuracy, _, avg_loss, avg_prediction_time = evaluate(model, validation_set, batch_size, device)\n",
    "        print(f\"Model: {model_file}\")\n",
    "        print(f\"Accuracy: {accuracy}, Average loss: {avg_loss}, Average prediction time (seconds): {avg_prediction_time}\")\n",
    "        print(\"----------------------------------------------------\")"
   ],
   "metadata": {
    "collapsed": false
   }
  },
  {
   "cell_type": "markdown",
   "source": [
    "## Experiment 3"
   ],
   "metadata": {
    "collapsed": false
   }
  },
  {
   "cell_type": "code",
   "execution_count": 33,
   "outputs": [
    {
     "name": "stdout",
     "output_type": "stream",
     "text": [
      "Model: 0.5-MobileNetV1-384_with_cbam_weight_decay.pth\n",
      "Accuracy: 0.49483521888834237, Average loss: 1.658248970285058, Average prediction time (seconds): 1.9240583777427673\n",
      "----------------------------------------------------\n",
      "Model: 0.75-MobileNetV1-384_with_cbam_weight_decay.pth\n",
      "Accuracy: 0.5218888342351206, Average loss: 1.5539673427119851, Average prediction time (seconds): 3.047035962343216\n",
      "----------------------------------------------------\n",
      "Model: 1-MobileNetV1-384_with_cbam_weight_decay.pth\n",
      "Accuracy: 0.4549926217412691, Average loss: 1.7230164892971516, Average prediction time (seconds): 4.966055311262608\n",
      "----------------------------------------------------\n"
     ]
    }
   ],
   "source": [
    "models_folder = 'models_from_colab_execution/experiment_3'\n",
    "\n",
    "# Pattern to extract width and resolution from the file names\n",
    "pattern = re.compile(r'(\\d+(?:\\.\\d+)?)-MobileNetV1-(\\d+)_.*\\.pth')\n",
    "\n",
    "model_files = sorted([file for file in os.listdir(models_folder) if file.endswith('.pth')])\n",
    "\n",
    "for model_file in model_files:\n",
    "    # Extract width and resolution from the file name\n",
    "    match = pattern.match(model_file)\n",
    "    if match:\n",
    "        width_parameter, resolution = match.groups()\n",
    "\n",
    "        # Load the model using the extracted width\n",
    "        model_path = os.path.join(models_folder, model_file)\n",
    "        model = MobileNetV1_old(ch_in=3, n_classes=25, width_multiplier=float(width_parameter), with_cbam = True)\n",
    "        model.load_state_dict(torch.load(model_path, map_location=torch.device('cpu')))\n",
    "\n",
    "        # Load validation data using the extracted resolution\n",
    "        validation_set = EvaluationSetDynamicNormalization(resolution=int(resolution), evaluation_csv=validation_csv).get_data()\n",
    "\n",
    "        accuracy, _, avg_loss, avg_prediction_time = evaluate(model, validation_set, batch_size, device)\n",
    "        print(f\"Model: {model_file}\")\n",
    "        print(f\"Accuracy: {accuracy}, Average loss: {avg_loss}, Average prediction time (seconds): {avg_prediction_time}\")\n",
    "        print(\"----------------------------------------------------\")"
   ],
   "metadata": {
    "collapsed": false
   }
  },
  {
   "cell_type": "markdown",
   "source": [
    "## Experiment 4"
   ],
   "metadata": {
    "collapsed": false
   }
  },
  {
   "cell_type": "code",
   "execution_count": 34,
   "outputs": [
    {
     "name": "stdout",
     "output_type": "stream",
     "text": [
      "Model: 0.5-MobileNetV1-384__cbam_all_layers.pth\n",
      "Accuracy: 0.5258239055582883, Average loss: 1.5182576766237617, Average prediction time (seconds): 3.061572887003422\n",
      "----------------------------------------------------\n",
      "Model: 0.75-MobileNetV1-384__cbam_all_layers.pth\n",
      "Accuracy: 0.5602557796360059, Average loss: 1.5076501686125994, Average prediction time (seconds): 4.445773385465145\n",
      "----------------------------------------------------\n",
      "Model: 1-MobileNetV1-384__cbam_all_layers.pth\n",
      "Accuracy: 0.5858337432365962, Average loss: 1.5436132396571338, Average prediction time (seconds): 7.594291619956493\n",
      "----------------------------------------------------\n"
     ]
    }
   ],
   "source": [
    "models_folder = 'models_from_colab_execution/experiment_4'\n",
    "\n",
    "# Pattern to extract width and resolution from the file names\n",
    "pattern = re.compile(r'(\\d+(?:\\.\\d+)?)-MobileNetV1-(\\d+)_.*\\.pth')\n",
    "\n",
    "model_files = sorted([file for file in os.listdir(models_folder) if file.endswith('.pth')])\n",
    "\n",
    "for model_file in model_files:\n",
    "    # Extract width and resolution from the file name\n",
    "    match = pattern.match(model_file)\n",
    "    if match:\n",
    "        width_parameter, resolution = match.groups()\n",
    "\n",
    "        # Load the model using the extracted width\n",
    "        model_path = os.path.join(models_folder, model_file)\n",
    "        model = MobileNetV1(ch_in=3, n_classes=25, width_multiplier=float(width_parameter), cbam_all_layers = True, cbam_last_layer=False)\n",
    "        model.load_state_dict(torch.load(model_path, map_location=torch.device('cpu')))\n",
    "\n",
    "        # Load validation data using the extracted resolution\n",
    "        validation_set = EvaluationSetDynamicNormalization(resolution=int(resolution), evaluation_csv=validation_csv).get_data()\n",
    "\n",
    "        accuracy, _, avg_loss, avg_prediction_time = evaluate(model, validation_set, batch_size, device)\n",
    "        print(f\"Model: {model_file}\")\n",
    "        print(f\"Accuracy: {accuracy}, Average loss: {avg_loss}, Average prediction time (seconds): {avg_prediction_time}\")\n",
    "        print(\"----------------------------------------------------\")"
   ],
   "metadata": {
    "collapsed": false
   }
  },
  {
   "cell_type": "markdown",
   "source": [
    "## Experiment 5"
   ],
   "metadata": {
    "collapsed": false
   }
  },
  {
   "cell_type": "code",
   "execution_count": 7,
   "outputs": [
    {
     "name": "stdout",
     "output_type": "stream",
     "text": [
      "Model: 1-MobileNetV1-384_cbam_all_layers_lr-0.0002393818251680816_bs-68.pth\n",
      "Accuracy: 0.4795868175110674, Average loss: 1.6768858730793, Average prediction time (seconds): 8.303677953779697\n",
      "----------------------------------------------------\n",
      "Model: 1-MobileNetV1-384_cbam_all_layers_lr-0.0003412213373775417_bs-76.pth\n",
      "Accuracy: 0.5135268076733891, Average loss: 1.6803174130618572, Average prediction time (seconds): 8.096007607877254\n",
      "----------------------------------------------------\n",
      "Model: 1-MobileNetV1-384_cbam_all_layers_lr-0.00048715609075237814_bs-51.pth\n",
      "Accuracy: 0.5090998524348254, Average loss: 1.700145403854549, Average prediction time (seconds): 8.248108185827732\n",
      "----------------------------------------------------\n",
      "Model: 1-MobileNetV1-384_cbam_all_layers_lr-0.0017743140561839272_bs-40.pth\n",
      "Accuracy: 0.4928676832267585, Average loss: 1.6386026702821255, Average prediction time (seconds): 8.054929479956627\n",
      "----------------------------------------------------\n",
      "Model: 1-MobileNetV1-384_cbam_all_layers_lr-0.002170032640290258_bs-54.pth\n",
      "Accuracy: 0.5415641908509592, Average loss: 1.4894573912024498, Average prediction time (seconds): 7.979784838855267\n",
      "----------------------------------------------------\n",
      "Model: 1-MobileNetV1-384_cbam_all_layers_lr-0.003964159819606411_bs-46.pth\n",
      "Accuracy: 0.5646827348745695, Average loss: 1.4352525207214057, Average prediction time (seconds): 7.080350182950497\n",
      "----------------------------------------------------\n",
      "Model: 1-MobileNetV1-384_cbam_all_layers_lr-0.005895941462943202_bs-56.pth\n",
      "Accuracy: 0.5327102803738317, Average loss: 1.4821758642792702, Average prediction time (seconds): 8.513271197676659\n",
      "----------------------------------------------------\n",
      "Model: 1-MobileNetV1-384_cbam_all_layers_lr-0.008001052876715332_bs-45.pth\n",
      "Accuracy: 0.4820462370880472, Average loss: 1.6632368294522166, Average prediction time (seconds): 8.1293815523386\n",
      "----------------------------------------------------\n",
      "Model: 1-MobileNetV1-384_cbam_all_layers_lr-0.00809443547418261_bs-54.pth\n",
      "Accuracy: 0.43728480078701426, Average loss: 1.7445079227909446, Average prediction time (seconds): 8.731544263660908\n",
      "----------------------------------------------------\n",
      "Model: 1-MobileNetV1-384_cbam_all_layers_lr-0.008639963244724243_bs-95.pth\n",
      "Accuracy: 0.49040826364977863, Average loss: 1.596198609098792, Average prediction time (seconds): 8.040297098457813\n",
      "----------------------------------------------------\n"
     ]
    }
   ],
   "source": [
    "models_folder = 'models_from_colab_execution/experiment_5'\n",
    "\n",
    "# Pattern to extract width and resolution from the file names\n",
    "pattern = re.compile(r'(\\d+(?:\\.\\d+)?)-MobileNetV1-(\\d+)_.*\\.pth')\n",
    "\n",
    "model_files = sorted([file for file in os.listdir(models_folder) if file.endswith('.pth')])\n",
    "\n",
    "for model_file in model_files:\n",
    "    # Extract width and resolution from the file name\n",
    "    match = pattern.match(model_file)\n",
    "    if match:\n",
    "        width_parameter, resolution = match.groups()\n",
    "\n",
    "        # Load the model using the extracted width\n",
    "        model_path = os.path.join(models_folder, model_file)\n",
    "        model = MobileNetV1(ch_in=3, n_classes=25, width_multiplier=float(width_parameter), cbam_all_layers = True, cbam_last_layer=False)\n",
    "        model.load_state_dict(torch.load(model_path, map_location=torch.device('cpu')))\n",
    "\n",
    "        # Load validation data using the extracted resolution\n",
    "        validation_set = EvaluationSetDynamicNormalization(resolution=int(resolution), evaluation_csv=validation_csv).get_data()\n",
    "\n",
    "        accuracy, _, avg_loss, avg_prediction_time = evaluate(model, validation_set, batch_size, device)\n",
    "        print(f\"Model: {model_file}\")\n",
    "        print(f\"Accuracy: {accuracy}, Average loss: {avg_loss}, Average prediction time (seconds): {avg_prediction_time}\")\n",
    "        print(\"----------------------------------------------------\")"
   ],
   "metadata": {
    "collapsed": false
   }
  },
  {
   "cell_type": "markdown",
   "source": [
    "## Experiment 6"
   ],
   "metadata": {
    "collapsed": false
   }
  },
  {
   "cell_type": "code",
   "execution_count": 9,
   "outputs": [
    {
     "name": "stdout",
     "output_type": "stream",
     "text": [
      "Model: 1-MobileNetV1-384_cbam_all_layers_lr-0.0025446248015873053_bs-99.pth\n",
      "Accuracy: 0.499754058042302, Average loss: 1.6579609997570515, Average prediction time (seconds): 6.915773995220661\n",
      "----------------------------------------------------\n",
      "Model: 1-MobileNetV1-384_cbam_all_layers_lr-0.0028173161183484103_bs-101.pth\n",
      "Accuracy: 0.5228726020659125, Average loss: 1.6140778865665197, Average prediction time (seconds): 7.361130438745022\n",
      "----------------------------------------------------\n",
      "Model: 1-MobileNetV1-384_cbam_all_layers_lr-0.0028844472698596117_bs-89.pth\n",
      "Accuracy: 0.4923757993113625, Average loss: 1.6259356690570712, Average prediction time (seconds): 8.100294962525368\n",
      "----------------------------------------------------\n",
      "Model: 1-MobileNetV1-384_cbam_all_layers_lr-0.00296764276029946_bs-94.pth\n",
      "Accuracy: 0.40432857845548453, Average loss: 1.967674819752574, Average prediction time (seconds): 7.917259536683559\n",
      "----------------------------------------------------\n",
      "Model: 1-MobileNetV1-384_cbam_all_layers_lr-0.003736489953358085_bs-39.pth\n",
      "Accuracy: 0.544023610427939, Average loss: 1.513642968609929, Average prediction time (seconds): 8.324100337922573\n",
      "----------------------------------------------------\n",
      "Model: 1-MobileNetV1-384_cbam_all_layers_lr-0.004237131512910355_bs-59.pth\n",
      "Accuracy: 0.5563207083128382, Average loss: 1.543865090701729, Average prediction time (seconds): 8.679001562297344\n",
      "----------------------------------------------------\n",
      "Model: 1-MobileNetV1-384_cbam_all_layers_lr-0.004634720875210511_bs-53.pth\n",
      "Accuracy: 0.5710772257747172, Average loss: 1.43364296015352, Average prediction time (seconds): 8.687941037118435\n",
      "----------------------------------------------------\n",
      "Model: 1-MobileNetV1-384_cbam_all_layers_lr-0.004883196444656417_bs-59.pth\n",
      "Accuracy: 0.5523856369896705, Average loss: 1.5050366902723908, Average prediction time (seconds): 8.279201596975327\n",
      "----------------------------------------------------\n"
     ]
    }
   ],
   "source": [
    "models_folder = 'models_from_colab_execution/experiment_6'\n",
    "\n",
    "# Pattern to extract width and resolution from the file names\n",
    "pattern = re.compile(r'(\\d+(?:\\.\\d+)?)-MobileNetV1-(\\d+)_.*\\.pth')\n",
    "\n",
    "model_files = sorted([file for file in os.listdir(models_folder) if file.endswith('.pth')])\n",
    "\n",
    "for model_file in model_files:\n",
    "    # Extract width and resolution from the file name\n",
    "    match = pattern.match(model_file)\n",
    "    if match:\n",
    "        width_parameter, resolution = match.groups()\n",
    "\n",
    "        # Load the model using the extracted width\n",
    "        model_path = os.path.join(models_folder, model_file)\n",
    "        model = MobileNetV1(ch_in=3, n_classes=25, width_multiplier=float(width_parameter), cbam_all_layers = True, cbam_last_layer=False)\n",
    "        model.load_state_dict(torch.load(model_path, map_location=torch.device('cpu')))\n",
    "\n",
    "        # Load validation data using the extracted resolution\n",
    "        validation_set = EvaluationSetDynamicNormalization(resolution=int(resolution), evaluation_csv=validation_csv).get_data()\n",
    "\n",
    "        accuracy, _, avg_loss, avg_prediction_time = evaluate(model, validation_set, batch_size, device)\n",
    "        print(f\"Model: {model_file}\")\n",
    "        print(f\"Accuracy: {accuracy}, Average loss: {avg_loss}, Average prediction time (seconds): {avg_prediction_time}\")\n",
    "        print(\"----------------------------------------------------\")"
   ],
   "metadata": {
    "collapsed": false
   }
  },
  {
   "cell_type": "markdown",
   "source": [
    "## Evaluation of Final Model on Test Set"
   ],
   "metadata": {
    "collapsed": false
   }
  },
  {
   "cell_type": "code",
   "execution_count": 8,
   "outputs": [
    {
     "name": "stdout",
     "output_type": "stream",
     "text": [
      "Model: 1-MobileNetV1-384__cbam_all_layers\n",
      "Accuracy: 0.570509648688768, Average loss: 1.56364028993994, Average prediction time (seconds): 7.804424196481705\n",
      "----------------------------------------------------\n"
     ]
    }
   ],
   "source": [
    "model_file = \"1-MobileNetV1-384__cbam_all_layers\"\n",
    "model_path = f\"models_from_colab_execution/experiment_4/{model_file}.pth\"\n",
    "test_csv = 'data/dataset/test_annotation.csv'\n",
    "\n",
    "model = MobileNetV1(ch_in=3, n_classes=25, width_multiplier=1, cbam_all_layers = True, cbam_last_layer=False)\n",
    "model.load_state_dict(torch.load(model_path, map_location=torch.device('cpu')))\n",
    "\n",
    "test_set = EvaluationSetDynamicNormalization(resolution=384, evaluation_csv=test_csv).get_data()\n",
    "\n",
    "accuracy, _, avg_loss, avg_prediction_time = evaluate(model, test_set, batch_size, device)\n",
    "print(f\"Model: {model_file}\")\n",
    "print(f\"Accuracy: {accuracy}, Average loss: {avg_loss}, Average prediction time (seconds): {avg_prediction_time}\")\n",
    "print(\"----------------------------------------------------\")"
   ],
   "metadata": {
    "collapsed": false
   }
  },
  {
   "cell_type": "code",
   "execution_count": null,
   "outputs": [],
   "source": [],
   "metadata": {
    "collapsed": false
   }
  }
 ],
 "metadata": {
  "kernelspec": {
   "display_name": "Python 3",
   "language": "python",
   "name": "python3"
  },
  "language_info": {
   "codemirror_mode": {
    "name": "ipython",
    "version": 2
   },
   "file_extension": ".py",
   "mimetype": "text/x-python",
   "name": "python",
   "nbconvert_exporter": "python",
   "pygments_lexer": "ipython2",
   "version": "2.7.6"
  }
 },
 "nbformat": 4,
 "nbformat_minor": 0
}
